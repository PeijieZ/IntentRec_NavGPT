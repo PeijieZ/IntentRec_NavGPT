{
 "cells": [
  {
   "cell_type": "code",
   "execution_count": 1,
   "id": "39d1913c-4c17-4c6a-8875-4d56f9be1920",
   "metadata": {},
   "outputs": [],
   "source": [
    "from openai import OpenAI\n",
    "\n",
    "import pandas as pd\n",
    "import random\n",
    "import json\n",
    "\n",
    "import googlemaps\n",
    "from datetime import datetime\n",
    "\n",
    "import re\n",
    "import requests\n",
    "\n",
    "import os\n",
    "import matplotlib.pyplot as plt\n",
    "\n",
    "import numpy as np\n",
    "from scipy.interpolate import interp1d\n",
    "\n",
    "import math\n"
   ]
  },
  {
   "cell_type": "code",
   "execution_count": null,
   "id": "07327da8-e334-4ee9-9645-7162881524c3",
   "metadata": {},
   "outputs": [],
   "source": []
  },
  {
   "cell_type": "code",
   "execution_count": null,
   "id": "5c19b18b-a7d8-4984-8b20-946c2ac0653c",
   "metadata": {},
   "outputs": [],
   "source": []
  },
  {
   "cell_type": "code",
   "execution_count": 2,
   "id": "15f33df0-2ed2-4949-b360-8b98518995ef",
   "metadata": {},
   "outputs": [],
   "source": [
    "json_file_path = 'goals_data.json'"
   ]
  },
  {
   "cell_type": "code",
   "execution_count": 3,
   "id": "36d243c9-c849-456f-91f9-517016409c58",
   "metadata": {},
   "outputs": [
    {
     "name": "stdout",
     "output_type": "stream",
     "text": [
      "Initial Location: Bristol, UK\n",
      "Goals List: Derby, UK\n",
      "observations: [[51.4551987, -2.5868899], [51.4597708, -2.5840761], [52.3522323, -1.809647], [52.9488481, -1.1506018], [52.95400799999999, -1.1552171]]\n"
     ]
    }
   ],
   "source": [
    "# Read the JSON file\n",
    "with open(json_file_path, 'r') as file:\n",
    "    data = json.load(file)\n",
    "\n",
    "# Initialize variables\n",
    "initial_location = data[1]['initial']\n",
    "goals_list = data[1]['goals']\n",
    "observations = data[2]['observations']\n",
    "\n",
    "# Print or use the variables as needed\n",
    "print(\"Initial Location:\", initial_location)\n",
    "print(\"Goals List:\", goals_list[1])\n",
    "print(\"observations:\", observations)"
   ]
  },
  {
   "cell_type": "code",
   "execution_count": 4,
   "id": "a9fd3956-87f0-4c7d-a836-786074380827",
   "metadata": {},
   "outputs": [],
   "source": [
    "file_path = \"locations_with_lat_lng.txt\"\n",
    "df = pd.read_csv(file_path)\n",
    "\n",
    "def get_lat_lng(location):\n",
    "    # Find the row corresponding to the input location\n",
    "    row = df[df['Locations'] == location]\n",
    "\n",
    "    # If location not found in DataFrame, return None\n",
    "    if row.empty:\n",
    "        return None, None\n",
    "    \n",
    "    # Extract latitude and longitude from the DataFrame\n",
    "    return row['Latitude'].values[0], row['Longitude'].values[0]"
   ]
  },
  {
   "cell_type": "code",
   "execution_count": 5,
   "id": "a99dd085-60c0-48f4-b6d9-ecd94de217eb",
   "metadata": {},
   "outputs": [],
   "source": [
    "\n",
    "\n",
    "def calculate_distance(point1, point2):\n",
    "    R = 6371e3  # Earth radius in meters\n",
    "    lat1, lon1 = point1\n",
    "    lat2, lon2 = point2\n",
    "    φ1 = math.radians(lat1)\n",
    "    φ2 = math.radians(lat2)\n",
    "    Δφ = math.radians(lat2 - lat1)\n",
    "    Δλ = math.radians(lon2 - lon1)\n",
    "\n",
    "    a = math.sin(Δφ / 2) * math.sin(Δφ / 2) + math.cos(φ1) * math.cos(φ2) * math.sin(Δλ / 2) * math.sin(Δλ / 2)\n",
    "    c = 2 * math.atan2(math.sqrt(a), math.sqrt(1 - a))\n",
    "\n",
    "    return R * c  # Distance in meters\n"
   ]
  },
  {
   "cell_type": "code",
   "execution_count": 6,
   "id": "b6ded3e1-9b08-4b39-8160-4967494e72ca",
   "metadata": {},
   "outputs": [],
   "source": [
    "def calculate_route_distance(origin, destination):\n",
    "    directions_result = gmaps.directions(origin, destination, mode=\"driving\")\n",
    "    \n",
    "    # Check if directions are available\n",
    "    if not directions_result or not directions_result[0]['legs']:\n",
    "        return None  # Return None if no directions are available\n",
    "    \n",
    "    total_distance = 0  # Initialize total distance\n",
    "    \n",
    "    # Calculate total distance of the route\n",
    "    for leg in directions_result[0]['legs']:\n",
    "        total_distance += leg['distance']['value']  # Add leg distance to total\n",
    "\n",
    "    return total_distance"
   ]
  },
  {
   "cell_type": "code",
   "execution_count": 7,
   "id": "1e2607d3-5fe8-4abc-a5b6-21fe8e05c51a",
   "metadata": {},
   "outputs": [],
   "source": [
    "with open(json_file_path, 'r') as file:\n",
    "    data = json.load(file)\n",
    "\n",
    "datalength = len(data)"
   ]
  },
  {
   "cell_type": "code",
   "execution_count": 8,
   "id": "0264fba7-3740-4d7c-be9d-a9642f410a09",
   "metadata": {},
   "outputs": [
    {
     "name": "stdout",
     "output_type": "stream",
     "text": [
      "1.2.1 Bristol, UK Nottingham, UK\n",
      "1.2.1 Bristol, UK Derby, UK\n"
     ]
    }
   ],
   "source": [
    "for current_id in range(3):\n",
    "    goals = data[current_id]['goals']\n",
    "    if current_id % 5 == 0: \n",
    "            for goal in range(len(goals)):\n",
    "                print(data[current_id]['id'], data[current_id]['initial'], goals[goal])\n",
    "    \n",
    "    # for goal in range(len(goals)):\n",
    "    #     print(data[current_id]['id'])\n",
    "        # route_points = calculate_route_points(data[current_id]['initial'], goals[goal])\n",
    "        # print(data[current_id]['id'],data[current_id]['initial'], goals[goal])"
   ]
  },
  {
   "cell_type": "code",
   "execution_count": 9,
   "id": "3cb5a1a7-6f01-4683-939e-a54f82fbffb1",
   "metadata": {},
   "outputs": [],
   "source": [
    "intent_dic_google = {}\n",
    "\n",
    "for current_id in range(datalength):\n",
    "    intent = {}\n",
    "    point_distance_array = []\n",
    "    \n",
    "    goals = data[current_id]['goals']\n",
    "\n",
    "    for goal in range(len(goals)):\n",
    "\n",
    "        # Check if there's only one observation\n",
    "        if len(data[current_id]['observations']) == 1:\n",
    "            # Calculate point distance differently in this case\n",
    "            point_distance1 = calculate_distance(get_lat_lng(goals[goal]), get_lat_lng(data[current_id]['initial']))\n",
    "            point_distance2 = calculate_distance(get_lat_lng(goals[goal]), data[current_id]['observations'][0])  # Use the single observation\n",
    "            point_distance = point_distance2 - point_distance1\n",
    "            point_distance_array.append(point_distance)\n",
    "        else:\n",
    "            # Calculate point distance using the first and last observations\n",
    "            point_distance1 = calculate_distance(get_lat_lng(goals[goal]), data[current_id]['observations'][0])\n",
    "            point_distance2 = calculate_distance(get_lat_lng(goals[goal]), data[current_id]['observations'][-1])\n",
    "            point_distance = point_distance2 - point_distance1\n",
    "            point_distance_array.append(point_distance)\n",
    "    # print(current_id, point_distance_array)\n",
    "    \n",
    "    # Find the minimum and maximum distances for each goal\n",
    "    min_distance = min(point_distance_array)\n",
    "    max_distance = max(point_distance_array)\n",
    "    \n",
    "    # Calculate intent percentages for each goal\n",
    "    intent_percentages = [100 - ((distance - min_distance) / (max_distance - min_distance) * 100) for distance in point_distance_array]\n",
    "    \n",
    "    # Normalize intent percentages so that their sum is 100%\n",
    "    total_intent_percentage = sum(intent_percentages)\n",
    "    if total_intent_percentage != 0:  # Avoid division by zero\n",
    "        intent_percentages = [percentage * 100 / total_intent_percentage for percentage in intent_percentages]\n",
    "    \n",
    "    # Store intent percentages for each goal in the dictionary\n",
    "    for i, goal in enumerate(goals):\n",
    "        intent[goal] = format(intent_percentages[i], '.2f')\n",
    "\n",
    "    # Store intent in the dictionary for the current data ID\n",
    "    intent_dic_google[data[current_id]['id']] = intent\n",
    "\n",
    "\n"
   ]
  },
  {
   "cell_type": "code",
   "execution_count": 10,
   "id": "f8897c8a-137f-45c6-a3ac-f64eb5b1a085",
   "metadata": {},
   "outputs": [],
   "source": [
    "# intent_dic_google"
   ]
  },
  {
   "cell_type": "code",
   "execution_count": 11,
   "id": "fbcaa894-14db-4f5b-a23b-aab956e62ef7",
   "metadata": {},
   "outputs": [
    {
     "name": "stdout",
     "output_type": "stream",
     "text": [
      "3.2.3\n",
      "3.5.3\n",
      "3.10.3\n",
      "3.15.3\n",
      "5.2.1\n",
      "5.2.3\n",
      "5.5.1\n",
      "5.5.3\n",
      "5.10.1\n",
      "5.10.3\n",
      "5.15.1\n",
      "5.15.3\n"
     ]
    }
   ],
   "source": [
    "count = 0\n",
    "TP_google = 0\n",
    "FN_google = 0\n",
    "FP_google = 0\n",
    "TN_google = 0\n",
    "for id in intent_dic_google:\n",
    "    highest_intent, highest_score = max(intent_dic_google[id].items(), key=lambda x: float(x[1]))\n",
    "    \n",
    "    # Check if the highest scoring intent matches the intent_goal\n",
    "    if highest_intent == data[count]['intent_goal']:\n",
    "        TP_google += 1\n",
    "        TN_google += len(intent_dic_google[id]) - 1\n",
    "    else:\n",
    "        print(data[count]['id'])\n",
    "        FN_google += 1\n",
    "        FP_google += len(intent_dic_google[id]) - 1\n",
    "    \n",
    "    count += 1   \n",
    "TPR_recall_google = TP_google/(TP_google + FN_google)\n",
    "Precision_google = TP_google/(TP_google + FP_google)\n",
    "FNR_google = FN_google/(FN_google + TP_google)\n",
    "FPR_google = FP_google/max(FP_google + TN_google, 1)\n",
    "\n",
    "F1_google = (2*Precision_google*TPR_recall_google)/(Precision_google + TPR_recall_google)\n",
    "# TPR_recall"
   ]
  },
  {
   "cell_type": "code",
   "execution_count": 12,
   "id": "d3585d9a-c04d-4c1b-8b93-ee95e342beb1",
   "metadata": {},
   "outputs": [
    {
     "data": {
      "text/plain": [
       "88"
      ]
     },
     "execution_count": 12,
     "metadata": {},
     "output_type": "execute_result"
    }
   ],
   "source": [
    "TP_google"
   ]
  },
  {
   "cell_type": "code",
   "execution_count": 13,
   "id": "e9440a01-fd72-464f-a4cd-c8c0281b1ff7",
   "metadata": {},
   "outputs": [
    {
     "data": {
      "text/plain": [
       "0.88"
      ]
     },
     "execution_count": 13,
     "metadata": {},
     "output_type": "execute_result"
    }
   ],
   "source": [
    "TPR_recall_google"
   ]
  },
  {
   "cell_type": "code",
   "execution_count": 14,
   "id": "40fe2cbb-3a84-4ea6-b1fd-50393810c06a",
   "metadata": {},
   "outputs": [],
   "source": [
    "obs_data = [[] for _ in range(4)]\n",
    "\n",
    "for id in intent_dic_google:\n",
    "    # Find the highest scoring intent\n",
    "\n",
    "    id_parts = id.split(\".\")\n",
    "    \n",
    "    # Check if the last part of the ID ends with \"2\"\n",
    "    if id_parts[1] == '2':\n",
    "      \n",
    "        obs_data[0].append(id)\n",
    "    if id_parts[1] == '5':\n",
    "     \n",
    "        obs_data[1].append(id)\n",
    "    if id_parts[1] == '10':\n",
    "      \n",
    "        obs_data[2].append(id)\n",
    "    if id_parts[1] == '15':\n",
    "     \n",
    "        obs_data[3].append(id)\n",
    "# obs_data\n"
   ]
  },
  {
   "cell_type": "code",
   "execution_count": 15,
   "id": "bef24326-1d56-4b57-a30d-2b1b925ea586",
   "metadata": {},
   "outputs": [],
   "source": [
    "# Initialize counts\n",
    "\n",
    "TPR_recalls_google, FNRs_google, FPRs_google, F1s_google = [], [], [], []\n",
    "\n",
    "count = 0  # Reset count for each iteration\n",
    "\n",
    "\n",
    "for obs in range(len(obs_data)):\n",
    "    TP_google, FN_google, FP_google, TN_google = 0, 0, 0, 0\n",
    "    for id_str in obs_data[obs]:\n",
    "        for data_dict in data:\n",
    "            if data_dict['id'] == id_str:\n",
    "                highest_intent, highest_score = max(intent_dic_google[id_str].items(), key=lambda x: float(x[1]))\n",
    "                \n",
    "                # Check if the highest scoring intent matches the intent_goal\n",
    "                if highest_intent == data_dict['intent_goal']:\n",
    "                    # print(data_dict['id'])\n",
    "                    TP_google += 1\n",
    "                    TN_google += len(intent_dic_google[id_str]) - 1\n",
    "                else:\n",
    "                    # print(data_dict['id'])\n",
    "                    FN_google += 1\n",
    "                    FP_google += len(intent_dic_google[id_str]) - 1\n",
    "                break       \n",
    "\n",
    " \n",
    "    # print(TP_ai)\n",
    "    # print(FN_ai)\n",
    "    TPR_recall_google = TP_google/(TP_google + FN_google)\n",
    "    Precision_google = TP_google/(TP_google + FP_google)\n",
    "    FNR_google = FN_google/(FN_google + TP_google)\n",
    "    FPR_google = FP_google/max(FP_google + TN_google, 1)\n",
    "    \n",
    "    # F1s_google.append(round((2*Precision_google*TPR_recall_google)/(Precision_google + TPR_recall_google), 2))\n",
    "    TPR_recalls_google.append(TPR_recall_google)\n",
    "    FNRs_google.append(FNR_google)\n",
    "    FPRs_google.append(FPR_google)\n"
   ]
  },
  {
   "cell_type": "code",
   "execution_count": 16,
   "id": "e8b1e549-9885-438a-8f3a-22920a07d405",
   "metadata": {},
   "outputs": [
    {
     "data": {
      "text/plain": [
       "[0.88, 0.88, 0.88, 0.88]"
      ]
     },
     "execution_count": 16,
     "metadata": {},
     "output_type": "execute_result"
    }
   ],
   "source": [
    "TPR_recalls_google"
   ]
  },
  {
   "cell_type": "code",
   "execution_count": 17,
   "id": "c516a17f-b8b8-4993-94bc-358225924513",
   "metadata": {},
   "outputs": [
    {
     "data": {
      "text/plain": [
       "[0.12, 0.12, 0.12, 0.12]"
      ]
     },
     "execution_count": 17,
     "metadata": {},
     "output_type": "execute_result"
    }
   ],
   "source": [
    "FNRs_google"
   ]
  },
  {
   "cell_type": "code",
   "execution_count": 18,
   "id": "38272479-000e-42a5-94bd-24c7cdf2d045",
   "metadata": {},
   "outputs": [
    {
     "data": {
      "text/plain": [
       "[0.12, 0.12, 0.12, 0.12]"
      ]
     },
     "execution_count": 18,
     "metadata": {},
     "output_type": "execute_result"
    }
   ],
   "source": [
    "FPRs_google"
   ]
  },
  {
   "cell_type": "code",
   "execution_count": 19,
   "id": "3d227717-303a-4b91-bd64-22e3bc799a89",
   "metadata": {},
   "outputs": [
    {
     "data": {
      "image/png": "[encoded data removed]",
      "text/plain": [
       "<Figure size 432x288 with 1 Axes>"
      ]
     },
     "metadata": {
      "needs_background": "light"
     },
     "output_type": "display_data"
    }
   ],
   "source": [
    "# Define the x-axis values\n",
    "x = ['2', '5', '10', '15']\n",
    "\n",
    "# Plot TPR for Mapbox and AI\n",
    "plt.plot(x, TPR_recalls_google, label='TPR_recalls_google')\n",
    "\n",
    "# Add labels and title\n",
    "plt.xlabel('No. Goals')\n",
    "plt.ylabel('TPR')\n",
    "plt.title('True Positive Rate (TPR) - H2')\n",
    "plt.legend()\n",
    "\n",
    "# Show the plot\n",
    "plt.show()"
   ]
  },
  {
   "cell_type": "code",
   "execution_count": 20,
   "id": "be9b5d64-db56-4331-b8bc-7e8b0c36e272",
   "metadata": {},
   "outputs": [],
   "source": [
    "obs_data = [[] for _ in range(5)]\n",
    "\n",
    "for id in intent_dic_google:\n",
    "    # Find the highest scoring intent\n",
    "\n",
    "    id_parts = id.split(\".\")\n",
    "    \n",
    "    # Check if the last part of the ID ends with \"2\"\n",
    "    if id_parts[-1] == '1':\n",
    "      \n",
    "        obs_data[0].append(id)\n",
    "    if id_parts[-1] == '3':\n",
    "     \n",
    "        obs_data[1].append(id)\n",
    "    if id_parts[-1] == '5':\n",
    "      \n",
    "        obs_data[2].append(id)\n",
    "    if id_parts[-1] == '10':\n",
    "     \n",
    "        obs_data[3].append(id)\n",
    "    if id_parts[-1] == '15':\n",
    "\n",
    "        obs_data[4].append(id)\n",
    "# obs_data\n"
   ]
  },
  {
   "cell_type": "code",
   "execution_count": 21,
   "id": "1ad42164-ed16-484a-a334-865c7030d7b1",
   "metadata": {},
   "outputs": [],
   "source": [
    "# Initialize counts\n",
    "\n",
    "TPR_recalls_google, FNRs_google, FPRs_google, F1s_google = [], [], [], []\n",
    "\n",
    "count = 0  # Reset count for each iteration\n",
    "\n",
    "\n",
    "for obs in range(len(obs_data)):\n",
    "    TP_google, FN_google, FP_google, TN_google = 0, 0, 0, 0\n",
    "    for id_str in obs_data[obs]:\n",
    "        for data_dict in data:\n",
    "            if data_dict['id'] == id_str:\n",
    "                highest_intent, highest_score = max(intent_dic_google[id_str].items(), key=lambda x: float(x[1]))\n",
    "                \n",
    "                # Check if the highest scoring intent matches the intent_goal\n",
    "                if highest_intent == data_dict['intent_goal']:\n",
    "                    # print(data_dict['id'])\n",
    "                    TP_google += 1\n",
    "                    TN_google += len(intent_dic_google[id_str]) - 1\n",
    "                else:\n",
    "                    # print(data_dict['id'])\n",
    "                    FN_google += 1\n",
    "                    FP_google += len(intent_dic_google[id_str]) - 1\n",
    "                break      \n",
    "\n",
    " \n",
    "    # print(TP_ai)\n",
    "    # print(FN_ai)\n",
    "    TPR_recall_google = TP_google/(TP_google + FN_google)\n",
    "    Precision_google = TP_google/(TP_google + FP_google)\n",
    "    FNR_google = FN_google/(FN_google + TP_google)\n",
    "    FPR_google = FP_google/max(FP_google + TN_google, 1)\n",
    "    \n",
    "    # F1s_google.append(round((2*Precision_google*TPR_recall_google)/(Precision_google + TPR_recall_google), 2))\n",
    "    TPR_recalls_google.append(TPR_recall_google)\n",
    "    FNRs_google.append(FNR_google)\n",
    "    FPRs_google.append(FPR_google)\n"
   ]
  },
  {
   "cell_type": "code",
   "execution_count": 22,
   "id": "3e0263fc-25d2-43c6-ac83-19db1e24022b",
   "metadata": {},
   "outputs": [
    {
     "data": {
      "text/plain": [
       "[0.8, 0.6, 1.0, 1.0, 1.0]"
      ]
     },
     "execution_count": 22,
     "metadata": {},
     "output_type": "execute_result"
    }
   ],
   "source": [
    "TPR_recalls_google"
   ]
  },
  {
   "cell_type": "code",
   "execution_count": 23,
   "id": "bf231f0a-51e6-4eef-9332-caff19214a4e",
   "metadata": {},
   "outputs": [
    {
     "data": {
      "image/png": "[encoded data removed]",
      "text/plain": [
       "<Figure size 432x288 with 1 Axes>"
      ]
     },
     "metadata": {
      "needs_background": "light"
     },
     "output_type": "display_data"
    }
   ],
   "source": [
    "# Define the x-axis values\n",
    "x = ['1', '3', '5', '10', '15']\n",
    "\n",
    "# Plot TPR for Mapbox and AI\n",
    "plt.plot(x, TPR_recalls_google, label='TPR_recalls_google')\n",
    "\n",
    "# Add labels and title\n",
    "plt.xlabel('No. OBS')\n",
    "plt.ylabel('TPR')\n",
    "plt.title('True Positive Rate (TPR) - H2')\n",
    "plt.legend()\n",
    "\n",
    "# Show the plot\n",
    "plt.show()"
   ]
  },
  {
   "cell_type": "code",
   "execution_count": null,
   "id": "f6f8b19f-fe36-486b-971b-1a32b818f78b",
   "metadata": {},
   "outputs": [],
   "source": []
  }
 ],
 "metadata": {
  "kernelspec": {
   "display_name": "Python 3 (ipykernel)",
   "language": "python",
   "name": "python3"
  },
  "language_info": {
   "codemirror_mode": {
    "name": "ipython",
    "version": 3
   },
   "file_extension": ".py",
   "mimetype": "text/x-python",
   "name": "python",
   "nbconvert_exporter": "python",
   "pygments_lexer": "ipython3",
   "version": "3.8.10"
  }
 },
 "nbformat": 4,
 "nbformat_minor": 5
}
